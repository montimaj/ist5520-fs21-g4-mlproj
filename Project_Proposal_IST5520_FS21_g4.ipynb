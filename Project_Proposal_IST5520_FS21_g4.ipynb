{
 "cells": [
  {
   "cell_type": "markdown",
   "id": "24adeb3d",
   "metadata": {},
   "source": [
    "<img src='logo.png' height=50 width=50 align='right'/>\n",
    "\n",
    "# IST 5520: Data Science and ML in Python\n",
    "## Project Proposal: Group 4 \n",
    "\n",
    "<h3>Group Members:&nbsp;<font size=3><i>Sayantan Majumdar, Dawit Wolday Asfaw, Cong Shen, Divya Reddy Manku, Akhil Reddy Annreddy </i></font></h3> \n",
    "\n",
    "\n"
   ]
  },
  {
   "cell_type": "code",
   "execution_count": 7,
   "id": "1dd58b4f",
   "metadata": {},
   "outputs": [
    {
     "data": {
      "text/html": [
       "<style>\n",
       "table {float:left}\n",
       "table td, table th, table tr {text-align:left !important;}\n",
       "</style>\n"
      ],
      "text/plain": [
       "<IPython.core.display.HTML object>"
      ]
     },
     "metadata": {},
     "output_type": "display_data"
    }
   ],
   "source": [
    "%%html\n",
    "<style>\n",
    "table {float:left}\n",
    "table td, table th, table tr {text-align:left !important;}\n",
    "</style>"
   ]
  },
  {
   "cell_type": "markdown",
   "id": "a0942295",
   "metadata": {},
   "source": [
    "# 1. Introduction\n",
    "\n",
    "## 1.1 Problem description and Research Questions\n",
    "This project aims to build a machine learning model to predict the carbon monoxide (CO) and nitrogen oxides (Nox) emissions from different cars operating in the United Kingdom. We will also be analyzing the factors having the most impact on such emissions. In addition, we will compare different machine learning models to assess their performance on the dataset. In this regard, the following research question needs to be answered:\n",
    "\n",
    "<i> Which predictors are statistically significant for predicting the CO and NOx emissions? </i>\n",
    "\n",
    "\n",
    "Some specific research questions include:\n",
    "\n",
    "<i>a.  Which machine learning model works best for this data set?</i> \n",
    "\n",
    "<i>b. Which cars perform well (in terms of emissions) in both urban and extra-urban driving conditions?</i>\n",
    "\n",
    "\n",
    "## 1.2 Regression Analysis\n",
    "The car emissions data set is a regression-based data set where we need to predict the CO and NOx emissions based on the explanatory variables In this project, we are dealing with a multivariate regression problem that is concerned with both prediction and inference wherein we have two output predictors.\n",
    "\n",
    "## 1.3 Potential problems and Challenges\n",
    "The major challenge in this project is to perform feature engineering. There are some highly correlated variables (THC+NOx, particulates)and some variables variables which may be not be useful directly. For example, the 'Model' and 'Decription' features are highly non-atomic containing several car information (Engine Type, Tire Size, Horsepower, Car Make Year, etc.). Thus, appropriate data-preprocessing and feature engineering needs to be performed for addressing the above research questions.\n",
    "\n",
    "## 1.4 Tentative Timeline\n",
    "\n",
    "|Phase|Activities|Completion|\n",
    "|----|----------|--------|\n",
    "|Data Collection| Collecting the required data set for the business analytics project|September 24, 2021|\n",
    "|Kickoff|Understanding the project requirements and elicitation|October 1, 2021|\n",
    "|Data Management|Data cleaning, pre-processing|October 20, 2021|\n",
    "|Data Analysis|Evaluating different ML models|November 20, 2021|\n",
    "|Project Submission|Report writing, preparing presentation, and proof-reading|November 30, 2021|"
   ]
  },
  {
   "cell_type": "markdown",
   "id": "4047bec2",
   "metadata": {},
   "source": [
    "# 2. Data Source and Collection\n",
    "\n",
    "This dataset can be found at https://www.kaggle.com/dananos/car-emissions-data/. It contains 33 explanatory variables (columns) that detail almost every aspect that govern car emisions (engine capacity, transmission, fuel type, . There are 5118 observations (rows) in this dataset related to car emissions in the UK."
   ]
  },
  {
   "cell_type": "code",
   "execution_count": null,
   "id": "9d7b319f",
   "metadata": {},
   "outputs": [],
   "source": []
  }
 ],
 "metadata": {
  "kernelspec": {
   "display_name": "Python 3 (ipykernel)",
   "language": "python",
   "name": "python3"
  },
  "language_info": {
   "codemirror_mode": {
    "name": "ipython",
    "version": 3
   },
   "file_extension": ".py",
   "mimetype": "text/x-python",
   "name": "python",
   "nbconvert_exporter": "python",
   "pygments_lexer": "ipython3",
   "version": "3.9.2"
  }
 },
 "nbformat": 4,
 "nbformat_minor": 5
}
