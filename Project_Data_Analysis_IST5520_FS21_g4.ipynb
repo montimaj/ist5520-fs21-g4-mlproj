{
 "cells": [
  {
   "cell_type": "markdown",
   "id": "24adeb3d",
   "metadata": {},
   "source": [
    "<img src=\"logo_img/logo.png\" height=50 width=50 align=\"right\"/><br/><br/>\n",
    "\n",
    "\n",
    "\n",
    "# IST 5520: Data Science and ML in Python\n",
    "## Project Proposal: Group 4 \n",
    "\n",
    "<h3>Group Members:&nbsp;<font size=3><i>Sayantan Majumdar, Dawit Wolday Asfaw, Cong Shen, Divya Reddy Manku, Akhil Reddy Annreddy </i></font></h3> \n",
    "\n",
    "\n"
   ]
  },
  {
   "cell_type": "markdown",
   "id": "a0942295",
   "metadata": {},
   "source": [
    "# 1. Introduction\n",
    "\n",
    "## 1.1 Background\n",
    "Greenhouse gases (GHG) are responsible for trapping heat, thereby making the planet warmer. For the past 150 years, the sharp global increase in GHG in the atmosphere can be primarily attributed to anthropogenic or human-induced activities. In the United States, the largest source of GHG emissions from human activities includes fossil fuel burning, which acts as the predominant energy source in the transportation sector and is also used to generate electricity and heat. The transportation sector generates the largest share of GHG emissions (29% of 2019 GHG emissions) from burning fossil fuels (mostly petroleum by-products such as gasoline and diesel) for our cars, trucks, ships, trains, and planes.\n",
    "\n",
    "\n",
    "The Environmental Protection Agency (EPA) emissions score (or GHG rating) reflects vehicle tailpipe emissions of carbon dioxide (CO$_2$), the most prevalent GHG. CO$_2$ emissions typically constitute 99% of the tailpipe emissions of greenhouse gases. Essentially, the higher the rating, the cleaner the car is, and this rating is a direct proxy for the CO$_2$ emissions.  \n",
    "\n",
    "## 1.1 Problem description and Research Questions\n",
    "This project aims to build a machine learning model to predict the Environmental Protection Agency (EPA) emission score from different vehicles operating in the United States. Essentially, this is a classification problem wherein we will utilize the EPA vehicle and emission data sets to predict the EPA emission score (a discrete quantity). We will also be analyzing the factors having the most impact on this score which varies from 1 (worst) to 10 (best). In addition, we will compare different machine learning models to assess their performance on the data sets. Such kind of modeling and analysis, if pushed to a production environment, could enable policymakers to address critical issues in the sustainable transportation industry. In this regard, we have to answer the following research question:\n",
    "\n",
    "<i> Which predictors are statistically significant for predicting the EPA emission score? </i>\n",
    "\n",
    "\n",
    "Some specific research questions include:\n",
    "\n",
    "<i>a.  Which machine learning model works best for this data set?</i> \n",
    "\n",
    "<i>b. Which cars perform well (in terms of emissions) in both city and highway driving conditions?</i>\n",
    "\n",
    "\n",
    "## 1.2 Classification Analysis\n",
    "The vehicle and car emissions data sets can model a classification problem where we need to predict the EPA emission score (a unitless quantity having integral values in the [1,10] interval) based on the explanatory variables. In this project, we are dealing with a high-dimensional classification problem concerned with both prediction (discrete EPA emission score) and inference.\n",
    "\n",
    "## 1.3 Potential Problems and Challenges\n",
    "The major challenge in this project is to perform feature engineering. Appropriate data-preprocessing and feature engineering must be performed to reduce the data dimensionality required to address the above research questions suitably.\n",
    "\n",
    "## 1.4 Tentative Timeline\n",
    "\n",
    "|Phase|Activities|Completion|\n",
    "|----|----------|--------|\n",
    "|Data Collection| Collecting the required data set for the business analytics project|September 24, 2021|\n",
    "|Kickoff|Understanding the project requirements and elicitation|October 1, 2021|\n",
    "|Data Management|Data cleaning, pre-processing|October 29, 2021|\n",
    "|Full Data Analysis|Evaluating different ML models|November 20, 2021|\n",
    "|Project Submission|Report writing, preparing presentation, and proof-reading|November 30, 2021|\n"
   ]
  },
  {
   "cell_type": "markdown",
   "id": "4047bec2",
   "metadata": {},
   "source": [
    "# 2. Data Source and Collection\n",
    "\n",
    "## 2.1 Data Source\n",
    "\n",
    "This dataset can be found at https://www.fueleconomy.gov/feg/ws/index.shtml. The vehicle and emission data sets need to be linked based on the vehicle ID. The vehicle data set contains 83 explanatory variables (columns) that provide detailed car specifications and has 44075 rows. As for the emissions data set, it has 8 features and 42442 rows. Some of the important features are listed below:\n",
    "\n",
    "|Data Set|Feature Name|Details|\n",
    "|----|----------|--------|\n",
    "|vehicle|ghgScore|EPA GHG score (target variable)|\n",
    "|vehicle|co2|Tailpipe CO2 in grams/mile for fuelType1|\n",
    "|vehicle|highway08U|Unrounded highway MPG for fuelType1|\n",
    "|vehicle|cylinders|Engine cylinders|\n",
    "|vehicle|year|Model year|\n",
    "|vehicle|displ|engine displacement in liters\n",
    "|emission|score|EPA 1-10 smog rating for fuelType1|\n",
    "\n",
    "\n",
    "## 2.2 Collection\n",
    "\n",
    "We found this data set on [EPA fuel economy portal](https://www.fueleconomy.gov/). The EPA has generated [annual reports](https://www.fueleconomy.gov/feg/pdfs/guides/FEG2021.pdf), but there are no existing publicly available notebooks having detailed machine learning workflows. Moreover, in conjunction, these two data sets satisfy all the other project requirements ($\\ge$20 columns and $\\ge$1000 rows) listed as part of this group assignment.  \n"
   ]
  },
  {
   "cell_type": "code",
   "execution_count": null,
   "id": "83633652",
   "metadata": {},
   "outputs": [],
   "source": []
  }
 ],
 "metadata": {
  "kernelspec": {
   "display_name": "Python 3 (ipykernel)",
   "language": "python",
   "name": "python3"
  },
  "language_info": {
   "codemirror_mode": {
    "name": "ipython",
    "version": 3
   },
   "file_extension": ".py",
   "mimetype": "text/x-python",
   "name": "python",
   "nbconvert_exporter": "python",
   "pygments_lexer": "ipython3",
   "version": "3.9.2"
  }
 },
 "nbformat": 4,
 "nbformat_minor": 5
}
